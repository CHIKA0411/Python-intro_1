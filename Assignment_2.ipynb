{
 "cells": [
  {
   "cell_type": "code",
   "execution_count": 9,
   "metadata": {},
   "outputs": [
    {
     "name": "stdout",
     "output_type": "stream",
     "text": [
      "enter a no4\n",
      "4  is even\n"
     ]
    }
   ],
   "source": [
    "#question-1a\n",
    "x=int(input(\"enter a no \"))\n",
    "if(x%2==0):\n",
    "        print(x,\" is even\")\n",
    "else:\n",
    "        print(x,\" is odd\")\n"
   ]
  },
  {
   "cell_type": "code",
   "execution_count": 10,
   "metadata": {},
   "outputs": [
    {
     "name": "stdout",
     "output_type": "stream",
     "text": [
      "enter x abba\n",
      "abba it is palindrome\n"
     ]
    }
   ],
   "source": [
    "#question-1b\n",
    "x=str(input(\"enter x \"))\n",
    "if x[:]==x[::-1]:\n",
    "    print(x,\"it is palindrome\")\n",
    "else:\n",
    "     print(x,\"it is not palindrome\")"
   ]
  },
  {
   "cell_type": "code",
   "execution_count": 19,
   "metadata": {},
   "outputs": [
    {
     "name": "stdout",
     "output_type": "stream",
     "text": [
      "enter x=a\n",
      "vowels\n"
     ]
    }
   ],
   "source": [
    "#question-1c\n",
    "x=str(input(\"enter x=\"))\n",
    "if(x==\"a\"or x==\"A\"):\n",
    "    print(\"vowels\")\n",
    "elif(x==\"e\"or x==\"E\"):\n",
    "    print(\"vowels\")\n",
    "elif(x==\"i\"or x==\"I\"):\n",
    "    print(\"vowels\")\n",
    "elif(x==\"o\"or x==\"O\"):\n",
    "    print(\"vowels\")\n",
    "elif(x==\"u\"or x==\"U\"):\n",
    "    print(\"vowels\")\n",
    "else:\n",
    "    print(\"consonant\")"
   ]
  },
  {
   "cell_type": "code",
   "execution_count": 37,
   "metadata": {},
   "outputs": [
    {
     "name": "stdout",
     "output_type": "stream",
     "text": [
      "enter month :dec\n",
      "enter date :32\n",
      "winter\n",
      "invalid input\n"
     ]
    }
   ],
   "source": [
    "#question-1d\n",
    "x=str(input(\"enter month :\"))\n",
    "y=int(input(\"enter date :\"))\n",
    "#winter\n",
    "if(x==\"dec\"):\n",
    "    if(y>21):\n",
    "        print(\"winter\")\n",
    "elif(x==\"jan\"):\n",
    "        print(\"winter\")\n",
    "elif(x==\"feb\"):\n",
    "        print(\"winter\") \n",
    "elif(x==\"mar\"):\n",
    "    if(y<20):\n",
    "        print(\"winter\")\n",
    "#spring\n",
    "if(x==\"mar\"):\n",
    "    if(y>21 and y<32):\n",
    "        print(\"spring\")\n",
    "    else:\n",
    "        print(\"invalid input\")\n",
    "elif(x==\"apr\"):\n",
    "    print(\"spring\")\n",
    "elif(x==\"may\"):\n",
    "    print(\"spring\") \n",
    "elif(x==\"jun\"):\n",
    "    if(y<20 and y>0):\n",
    "        print(\"spring\")\n",
    "    else:\n",
    "        print(\"invalid input\")\n",
    "#summer\n",
    "if(x==\"jun\"):\n",
    "    if(y>21 and y<32):\n",
    "        print(\"summer\") \n",
    "    else:\n",
    "        print(\"invalid input\")\n",
    "elif(x==\"july\"):\n",
    "        print(\"summer\")\n",
    "elif(x==\"aug\"):\n",
    "        print(\"summer\") \n",
    "elif(x==\"sep\"):\n",
    "    if(y<20 and y>0):\n",
    "        print(\"summer\")\n",
    "    else:\n",
    "        print(\"invalid input\")\n",
    "#fall\n",
    "if(x==\"sep\"):\n",
    "    if(y>21 and y<32):\n",
    "        print(\"fall\")  \n",
    "    else:\n",
    "        print(\"invalid input\")\n",
    "elif(x==\"oct\"):\n",
    "        print(\"fall\")\n",
    "elif(x==\"nov\"):\n",
    "        print(\"fall\") \n",
    "elif(x==\"dec\"):\n",
    "    if(y<20 and y>0):\n",
    "        print(\"fall\")\n",
    "    else:\n",
    "        print(\"invalid input\")\n"
   ]
  },
  {
   "cell_type": "code",
   "execution_count": null,
   "metadata": {},
   "outputs": [],
   "source": [
    "x=int(input(\"enter year \"))\n",
    "if (x%4)==0 and (x%100)!=0 or (x%400)==0:\n",
    "    \n",
    "    print(x,\"is a leap year\")\n",
    "else :\n",
    "    print(x,\" is not a leap year\")"
   ]
  },
  {
   "cell_type": "code",
   "execution_count": null,
   "metadata": {},
   "outputs": [],
   "source": [
    "def add():\n",
    "def subtract():\n",
    "def division(x,y):\n",
    "    return x/y;\n",
    "def multiply(z):\n",
    "    \n",
    "    "
   ]
  },
  {
   "cell_type": "code",
   "execution_count": 9,
   "metadata": {},
   "outputs": [
    {
     "name": "stdout",
     "output_type": "stream",
     "text": [
      "(-5.204168476687281, -14.79583152331272)\n"
     ]
    }
   ],
   "source": [
    "#question-2b\n",
    "import math\n",
    "\n",
    "def quadeq(a,b,c):\n",
    "    if b*b-4*a*c>0:\n",
    "        y1=-b+math.sqrt(b*b-4*a*c)/(2*a)\n",
    "        y2=-b-math.sqrt(b*b-4*a*c)/(2*a)\n",
    "        return (y1,y2)\n",
    "    else:\n",
    "        return\"Imaginary roots\"\n",
    "print(quadeq(1,10,2))\n",
    "    "
   ]
  },
  {
   "cell_type": "code",
   "execution_count": 25,
   "metadata": {},
   "outputs": [
    {
     "name": "stdout",
     "output_type": "stream",
     "text": [
      "\"Hi x\"\n"
     ]
    }
   ],
   "source": [
    "#question-2c\n",
    "def Hi(x):\n",
    "    return (\"\\\"Hi x\\\"\");\n",
    "print(Hi(x))"
   ]
  },
  {
   "cell_type": "code",
   "execution_count": 10,
   "metadata": {},
   "outputs": [
    {
     "name": "stdout",
     "output_type": "stream",
     "text": [
      "3.0\n",
      "11\n"
     ]
    }
   ],
   "source": [
    "#question-2d\n",
    "def mean(x,y,z):\n",
    "    return ((x+y+z)/3)\n",
    "def median(x,y,z):\n",
    "        return(x+y+z-min(x,y,z)+max((x,y,z)))      \n",
    "print(mean(2,3,4))\n",
    "print(median(2,3,4))"
   ]
  },
  {
   "cell_type": "code",
   "execution_count": 11,
   "metadata": {},
   "outputs": [
    {
     "name": "stdout",
     "output_type": "stream",
     "text": [
      "15.0\n"
     ]
    }
   ],
   "source": [
    "#question-2e\n",
    "def thesum(x):\n",
    "    return (x*(x+1)/2)\n",
    "print(thesum(5))"
   ]
  },
  {
   "cell_type": "code",
   "execution_count": null,
   "metadata": {},
   "outputs": [],
   "source": []
  },
  {
   "cell_type": "code",
   "execution_count": null,
   "metadata": {},
   "outputs": [],
   "source": []
  }
 ],
 "metadata": {
  "kernelspec": {
   "display_name": "Python 3",
   "language": "python",
   "name": "python3"
  }
 },
 "nbformat": 4,
 "nbformat_minor": 2
}
