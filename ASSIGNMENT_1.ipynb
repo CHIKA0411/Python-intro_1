{
 "cells": [
  {
   "cell_type": "code",
   "execution_count": 1,
   "id": "9831f977",
   "metadata": {},
   "outputs": [
    {
     "name": "stdout",
     "output_type": "stream",
     "text": [
      "\"I'm a Student' of ITER.\"\n"
     ]
    }
   ],
   "source": [
    "#Name-Abha Mahato regno-2241013032 sec-07\n",
    "#assignment 1\n",
    "#question-1a\n",
    "print(\"\\\"I'm a Student' of ITER.\\\"\")"
   ]
  },
  {
   "cell_type": "code",
   "execution_count": 2,
   "id": "37d17f44",
   "metadata": {},
   "outputs": [
    {
     "name": "stdout",
     "output_type": "stream",
     "text": [
      "'MY Name is\n",
      " abha'\n"
     ]
    }
   ],
   "source": [
    "#Name-Abha Mahato regno-2241013032 sec-07\n",
    "#question-1b\n",
    "print(\"'MY Name is\\n abha'\")"
   ]
  },
  {
   "cell_type": "code",
   "execution_count": 4,
   "id": "b06b4d98",
   "metadata": {},
   "outputs": [
    {
     "name": "stdout",
     "output_type": "stream",
     "text": [
      "6\n"
     ]
    }
   ],
   "source": [
    "#Name-Abha Mahato regno-2241013032 sec-07\n",
    "#question-2a\n",
    "print(5 and 6)\n"
   ]
  },
  {
   "cell_type": "code",
   "execution_count": null,
   "id": "936a89df",
   "metadata": {},
   "outputs": [],
   "source": []
  },
  {
   "cell_type": "code",
   "execution_count": 5,
   "id": "1c9c3619",
   "metadata": {},
   "outputs": [
    {
     "name": "stdout",
     "output_type": "stream",
     "text": [
      "0\n"
     ]
    }
   ],
   "source": [
    "#Name-Abha Mahato regno-2241013032 sec-07\n",
    "#question-2b\n",
    "print(0 and 6)"
   ]
  },
  {
   "cell_type": "code",
   "execution_count": 6,
   "id": "bc69c72f",
   "metadata": {},
   "outputs": [
    {
     "name": "stdout",
     "output_type": "stream",
     "text": [
      "1\n"
     ]
    }
   ],
   "source": [
    "#Name-Abha Mahato regno-2241013032 sec-07\n",
    "#question-2c\n",
    "print(0 or 1)"
   ]
  },
  {
   "cell_type": "code",
   "execution_count": 7,
   "id": "3de3e07a",
   "metadata": {},
   "outputs": [
    {
     "name": "stdout",
     "output_type": "stream",
     "text": [
      "1\n"
     ]
    }
   ],
   "source": [
    "#Name-Abha Mahato regno-2241013032 sec-07\n",
    "#question-2d\n",
    "print(1 or 0)"
   ]
  },
  {
   "cell_type": "code",
   "execution_count": 8,
   "id": "0f3bd06f",
   "metadata": {},
   "outputs": [
    {
     "name": "stdout",
     "output_type": "stream",
     "text": [
      "-85.0\n"
     ]
    }
   ],
   "source": [
    "#Name-Abha Mahato regno-2241013032 sec-07\n",
    "#question-2e\n",
    "print(-7*20+8/16*2+54)\n"
   ]
  },
  {
   "cell_type": "code",
   "execution_count": 9,
   "id": "7780891b",
   "metadata": {},
   "outputs": [
    {
     "name": "stdout",
     "output_type": "stream",
     "text": [
      "-25\n"
     ]
    }
   ],
   "source": [
    "#Name-Abha Mahato regno-2241013032 sec-07\n",
    "#question-2f\n",
    "print(5%10+10-25*8//5)\n"
   ]
  },
  {
   "cell_type": "code",
   "execution_count": 10,
   "id": "ead0feff",
   "metadata": {},
   "outputs": [
    {
     "name": "stdout",
     "output_type": "stream",
     "text": [
      "'hello''hello''hello'\n"
     ]
    }
   ],
   "source": [
    "#Name-Abha Mahato regno-2241013032 sec-07\n",
    "#question-2e\n",
    "print(\"'hello'\"*(5-2))\n"
   ]
  },
  {
   "cell_type": "code",
   "execution_count": 11,
   "id": "a6dd2834",
   "metadata": {},
   "outputs": [
    {
     "name": "stdout",
     "output_type": "stream",
     "text": [
      "True\n"
     ]
    }
   ],
   "source": [
    "#Name-Abha Mahato regno-2241013032 sec-07\n",
    "#question-2f\n",
    "print(\"'hi'\">\"'hello'\"or \"'bye'\"<\"'Bye'\")\n"
   ]
  },
  {
   "cell_type": "code",
   "execution_count": 12,
   "id": "99b822ff",
   "metadata": {},
   "outputs": [
    {
     "name": "stdout",
     "output_type": "stream",
     "text": [
      "False\n"
     ]
    }
   ],
   "source": [
    "#Name-Abha Mahato regno-2241013032 sec-07\n",
    "#question-2g\n",
    "print(10!=9 and 29!=29 and\"'hi'\">\"'hello'\" or\"'bye'\"<\"'Bye'\" and 7<=2.5)"
   ]
  },
  {
   "cell_type": "code",
   "execution_count": 18,
   "id": "11c1ae23",
   "metadata": {},
   "outputs": [
    {
     "name": "stdout",
     "output_type": "stream",
     "text": [
      "enter marks 359\n",
      "True\n"
     ]
    }
   ],
   "source": [
    "#Name-Abha Mahato regno-2241013032 sec-07\n",
    "#question-4a\n",
    "marks=int(input(\"enter marks \"))\n",
    "a=300\n",
    "b=400\n",
    "print(marks>a and marks<b)"
   ]
  },
  {
   "cell_type": "code",
   "execution_count": 20,
   "id": "88cf1d80",
   "metadata": {},
   "outputs": [
    {
     "name": "stdout",
     "output_type": "stream",
     "text": [
      "enter grade A\n",
      "True\n"
     ]
    }
   ],
   "source": [
    "#question-4b\n",
    "grade=str(input(\"enter grade \"))\n",
    "print(grade==grade.upper())"
   ]
  },
  {
   "cell_type": "code",
   "execution_count": 22,
   "id": "e1b394b7",
   "metadata": {},
   "outputs": [
    {
     "name": "stdout",
     "output_type": "stream",
     "text": [
      "ENTER EXPERIENCE4.5\n",
      "True\n",
      "you are eligible for job\n"
     ]
    }
   ],
   "source": [
    "#Name-Abha Mahato regno-2241013032 sec-07\n",
    "#question-4c\n",
    "exp=float(input(\"ENTER EXPERIENCE\"))\n",
    "print(exp>4.0)\n",
    "print(\"you are eligible for job\")"
   ]
  },
  {
   "cell_type": "code",
   "execution_count": 25,
   "id": "f1c380a2",
   "metadata": {},
   "outputs": [
    {
     "name": "stdout",
     "output_type": "stream",
     "text": [
      "enter length 50000\n",
      "enter width 300000\n",
      "area = 15000000000.0 feet\n",
      "344352.6170798898 in acres\n"
     ]
    }
   ],
   "source": [
    "#Name-Abha Mahato regno-2241013032 sec-07\n",
    "#question-5\n",
    "length=float(input(\"enter length \"))\n",
    "width=float(input(\"enter width \"))\n",
    "area=length*width\n",
    "acres=area/43560\n",
    "print(\"area =\",area,\"feet\")\n",
    "print(acres,\"in acres\")"
   ]
  },
  {
   "cell_type": "code",
   "execution_count": 26,
   "id": "c544d24e",
   "metadata": {},
   "outputs": [
    {
     "name": "stdout",
     "output_type": "stream",
     "text": [
      "enter the no.of soap\n",
      "30\n",
      "enter the no.of shampoo\n",
      "3\n",
      "price of soap= 2250\n",
      "price of shampoo= 3330\n",
      "total price= 5580\n"
     ]
    }
   ],
   "source": [
    "#Name-Abha Mahato regno-2241013032 sec-07\n",
    "#question-6\n",
    "print(\"enter the no.of soap\")\n",
    "s=int(input())\n",
    "print(\"enter the no.of shampoo\")  \n",
    "sh=int(input())\n",
    "p1=s*75\n",
    "p2=s*111\n",
    "print(\"price of soap=\",p1)\n",
    "print(\"price of shampoo=\",p2)\n",
    "p=p1+p2\n",
    "print(\"total price=\",p)"
   ]
  },
  {
   "cell_type": "code",
   "execution_count": 28,
   "id": "d5361334",
   "metadata": {},
   "outputs": [
    {
     "name": "stdout",
     "output_type": "stream",
     "text": [
      "enter height 20\n",
      "final velocity  19.79898987322333\n"
     ]
    }
   ],
   "source": [
    "#Name-Abha Mahato regno-2241013032 sec-07\n",
    "#question-7\n",
    "import math\n",
    "h=float(input(\"enter height \"))\n",
    "u=0.0\n",
    "ag=9.8\n",
    "u1=pow(u,2.0)\n",
    "ad1=2.0*ag\n",
    "ad=ad1*h\n",
    "t=u1+ad\n",
    "v=math.sqrt(t)\n",
    "print(\"final velocity \",v)\n"
   ]
  },
  {
   "cell_type": "code",
   "execution_count": 1,
   "id": "3aedfa5d",
   "metadata": {},
   "outputs": [
    {
     "name": "stdout",
     "output_type": "stream",
     "text": [
      "enter input3141\n",
      "sum of digits 9\n"
     ]
    }
   ],
   "source": [
    "#Name-Abha Mahato regno-2241013032 sec-07\n",
    "#question-8\n",
    "n=int(input(\"enter input\"))\n",
    "o=n%10\n",
    "r1=n//10\n",
    "o1=r1%10\n",
    "r2=r1//10\n",
    "o2=r2%10\n",
    "r3=r2//10\n",
    "o4=r3%10\n",
    "print(\"sum of digits\",o1+o2+o+o4)"
   ]
  },
  {
   "cell_type": "code",
   "execution_count": 2,
   "id": "f2532d02",
   "metadata": {},
   "outputs": [
    {
     "name": "stdout",
     "output_type": "stream",
     "text": [
      "input 3 integer\n",
      "2\n",
      "3\n",
      "4\n",
      "smallest = 2\n",
      "largest= 4\n",
      "middle  3\n",
      "ascending order= 2 3 4\n"
     ]
    }
   ],
   "source": [
    "#Name-Abha Mahato regno-2241013032 sec-07\n",
    "#question-9\n",
    "import math\n",
    "print(\"input 3 integer\")\n",
    "n1=int(input())\n",
    "n2=int(input())\n",
    "n3=int(input())\n",
    "minx=min(n1,n2,n3)\n",
    "print(\"smallest =\",minx)\n",
    "maxx=max(n1,n2,n3)\n",
    "print(\"largest=\",maxx)\n",
    "middle=n1+n2+n3-maxx-minx\n",
    "print(\"middle \",middle)\n",
    "print(\"ascending order=\",minx,middle,maxx)"
   ]
  },
  {
   "cell_type": "code",
   "execution_count": 3,
   "id": "0d6f74a6",
   "metadata": {},
   "outputs": [
    {
     "name": "stdout",
     "output_type": "stream",
     "text": [
      "enter days4\n",
      "enter hours7\n",
      "enter minutes56\n",
      "enter seconds30\n",
      "total no. of seconds  374190\n"
     ]
    }
   ],
   "source": [
    "#Name-Abha Mahato regno-2241013032 sec-07\n",
    "#question-10\n",
    "import math\n",
    "n1=int(input(\"enter days\"))\n",
    "n2=int(input(\"enter hours\"))\n",
    "n3=int(input(\"enter minutes\"))\n",
    "n4=int(input(\"enter seconds\"))\n",
    "seconds=n1*24*60*60+n2*60*60+n3*60+n4\n",
    "print(\"total no. of seconds \",seconds)"
   ]
  },
  {
   "cell_type": "code",
   "execution_count": 8,
   "id": "63184cca",
   "metadata": {},
   "outputs": [
    {
     "name": "stdout",
     "output_type": "stream",
     "text": [
      "enter radius3\n",
      "area of circle  28.274333882308138 \n",
      "volume of sphere  37.69911184307752\n"
     ]
    }
   ],
   "source": [
    "#Name-Abha Mahato regno-2241013032 sec-07\n",
    "#question-11\n",
    "import math\n",
    "r=float(input(\"enter radius\"))\n",
    "ac=math.pi*r*r\n",
    "vs=4/3*math.pi*r*r\n",
    "print(\"area of circle \",ac,\"\\nvolume of sphere \",vs)"
   ]
  },
  {
   "cell_type": "code",
   "execution_count": 9,
   "id": "8b4a2bb7",
   "metadata": {},
   "outputs": [
    {
     "name": "stdout",
     "output_type": "stream",
     "text": [
      "36\n",
      "HEY!HELLO!,CAN YOU HEAR ME,MR.HELLO?\n",
      "hey!hello!,can you hear me,mr.hello?\n",
      "Hey!Hello!,Can You Hear Me,Mr.Hello?\n",
      "Hey!hello!,can you hear me,mr.hello?\n",
      "hEY!hELLO!,cAN YOU HEAR ME,mR.hELLO?\n",
      "['Hey!Hello!', 'Can you hear me', 'Mr.Hello?']\n",
      "0\n",
      "30\n",
      "4\n",
      "False\n",
      "False\n",
      "3\n",
      "1\n",
      "True\n",
      "Hey!Hello!,Can you hear me,Mr.Hello?\n",
      "Hey!Hello!,Can you hear me,Mr.Hello?\n",
      "Hey!Hello!,Can you hear me,Mr.Hello?\n",
      "False\n",
      "('Hey', '!', 'Hello!,Can you hear me,Mr.Hello?')\n"
     ]
    }
   ],
   "source": [
    "#Name-Abha Mahato regno-2241013032 sec-07\n",
    "#question-12\n",
    "str=\"Hey!Hello!,Can you hear me,Mr.Hello?\"\n",
    "print(len(str))\n",
    "print(str.upper())\n",
    "print(str.lower())\n",
    "print(str.title())\n",
    "print(str.capitalize())\n",
    "print(str.swapcase())\n",
    "print(str.split(','))\n",
    "print(str.find('He'))\n",
    "print(str.rfind('He'))\n",
    "print(str.find('He',4,12))\n",
    "print(str.isalpha())\n",
    "print(str.islower())\n",
    "print(str.count('He'))\n",
    "print(str.count('He',3,10))\n",
    "print(str.startswith(\"Hey\"))\n",
    "print(str.rstrip('H'))\n",
    "print(str.replace('hello','Virat'))\n",
    "print(str.replace('hello','Virat',1))\n",
    "print(str.endswith('!'))\n",
    "print(str.partition('!'))"
   ]
  },
  {
   "cell_type": "code",
   "execution_count": 10,
   "id": "22936034",
   "metadata": {},
   "outputs": [
    {
     "name": "stdout",
     "output_type": "stream",
     "text": [
      "Hel\n",
      "Hey!Hel\n",
      "Hello!,Can you hear me,Mr.Hello?\n",
      "Hey!Hello!,Can you hear me,Mr.Hello?\n",
      "Hey!Hello!,Can you hear me,Mr.Hlo?\n",
      "H$e$y$!$H$e$l$l$o$!$,$C$a$n$ $y$o$u$ $h$e$a$r$ $m$e$,$M$r$.$H$e$l$l$o$?\n"
     ]
    }
   ],
   "source": [
    "#Name-Abha Mahato regno-2241013032 sec-07\n",
    "#question-13\n",
    "str=\"Hey!Hello!,Can you hear me,Mr.Hello?\"\n",
    "print(str[4:7])\n",
    "print(str[:7])\n",
    "print(str[4:])\n",
    "print(str[-len(str):len(str)])\n",
    "print(str[:-5]+str[-3:])\n",
    "print('$'.join(str))"
   ]
  },
  {
   "cell_type": "code",
   "execution_count": null,
   "id": "112ead7c",
   "metadata": {},
   "outputs": [],
   "source": []
  }
 ],
 "metadata": {
  "kernelspec": {
   "display_name": "Python 3 (ipykernel)",
   "language": "python",
   "name": "python3"
  },
  "language_info": {
   "codemirror_mode": {
    "name": "ipython",
    "version": 3
   },
   "file_extension": ".py",
   "mimetype": "text/x-python",
   "name": "python",
   "nbconvert_exporter": "python",
   "pygments_lexer": "ipython3",
   "version": "3.11.4"
  }
 },
 "nbformat": 4,
 "nbformat_minor": 5
}
