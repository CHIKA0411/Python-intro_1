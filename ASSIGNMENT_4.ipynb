{
 "cells": [
  {
   "cell_type": "markdown",
   "id": "f1bd5930",
   "metadata": {},
   "source": [
    "Data Science Workshop-1 (CSE 2195)\n",
    "MINOR ASSIGNMENT-4: BUILT-IN DATA STRUCTURES (LIST, TUPLE, SET,\n",
    "DICTIONARY)"
   ]
  },
  {
   "cell_type": "markdown",
   "id": "f96461cd",
   "metadata": {},
   "source": [
    "What is a List Object in Python? Write the syntax, how we create a List object? For the following create List object of each scenario and display the output. (a) List of vowels. (b) List of consonants. (c) List of even integers within 1 to 20. (d) List of odd integers within 1 to 20. (e) List of all subjects in this semester. (f) List of all subject codes in this semester. (g) List of temperatures from last 10 days"
   ]
  },
  {
   "cell_type": "markdown",
   "id": "c5707ed3",
   "metadata": {},
   "source": [
    "#Name-Abha Mahato regno-2241013032 sec-07\n",
    "#assignment 4\n",
    "\n",
    "ANSWER-Lists are used to store multiple items in a single variable.\n",
    "\n",
    "Lists are one of 4 built-in data types in Python used to store collections of data, the other 3 are Tuple, Set, and Dictionary, all with different qualities and usage.\n",
    "\n",
    "Lists are created using square[] brackets:\n",
    "thislist = [\"apple\", \"banana\", \"cherry\"]\n",
    "print(thislist)\n",
    "\n",
    "-OUTPUT-\n",
    "[\"apple\", \"banana\", \"cherry\"]"
   ]
  },
  {
   "cell_type": "code",
   "execution_count": 3,
   "id": "5e5f2c6a",
   "metadata": {},
   "outputs": [
    {
     "name": "stdout",
     "output_type": "stream",
     "text": [
      "['a', 'e', 'i', 'o', 'u']\n"
     ]
    }
   ],
   "source": [
    "#Name-Abha Mahato regno-2241013032 sec-07 \n",
    "#assignment 4\n",
    "#1(a) List of vowels:\n",
    "vowels = ['a', 'e', 'i', 'o', 'u']\n",
    "print(vowels)"
   ]
  },
  {
   "cell_type": "code",
   "execution_count": 4,
   "id": "da6d6914",
   "metadata": {},
   "outputs": [
    {
     "name": "stdout",
     "output_type": "stream",
     "text": [
      "['b', 'c', 'd', 'f', 'g', 'h', 'j', 'k', 'l', 'm', 'n', 'p', 'q', 'r', 's', 't', 'v', 'w', 'x', 'y', 'z']\n"
     ]
    }
   ],
   "source": [
    "#Name-Abha Mahato regno-2241013032 sec-07 \n",
    "#assignment 4\n",
    "#1(b) List of consonants:\n",
    "consonants = ['b', 'c', 'd', 'f', 'g', 'h', 'j', 'k', 'l', 'm', 'n', 'p', 'q', 'r', 's', 't', 'v', 'w', 'x', 'y', 'z']\n",
    "print(consonants)\n"
   ]
  },
  {
   "cell_type": "code",
   "execution_count": 5,
   "id": "40ba11c0",
   "metadata": {},
   "outputs": [
    {
     "name": "stdout",
     "output_type": "stream",
     "text": [
      "[2, 4, 6, 8, 10, 12, 14, 16, 18, 20]\n"
     ]
    }
   ],
   "source": [
    "#Name-Abha Mahato regno-2241013032 sec-07 \n",
    "#assignment 4\n",
    "#1(c) List of even integers within 1 to 20:\n",
    "even_numbers = [x for x in range(2, 21, 2)]\n",
    "print(even_numbers)\n"
   ]
  },
  {
   "cell_type": "code",
   "execution_count": 6,
   "id": "8aa3f8cc",
   "metadata": {},
   "outputs": [
    {
     "name": "stdout",
     "output_type": "stream",
     "text": [
      "['Probability and Statistics', 'Principle of Economics', 'Data Science workshop-I', 'Algorithms Design', 'Digital Logic Design']\n"
     ]
    }
   ],
   "source": [
    "#Name-Abha Mahato regno-2241013032 sec-07 \n",
    "#assignment 4\n",
    "#1(e) List of all subjects in this semester:\n",
    "subjects = ['Probability and Statistics', 'Principle of Economics', 'Data Science workshop-I', 'Algorithms Design', 'Digital Logic Design']\n",
    "print(subjects)"
   ]
  },
  {
   "cell_type": "code",
   "execution_count": 7,
   "id": "f76f1840",
   "metadata": {},
   "outputs": [
    {
     "name": "stdout",
     "output_type": "stream",
     "text": [
      "['MTH2002', 'HSS2021', 'CSE2195', 'CSE3131', 'EET1211']\n"
     ]
    }
   ],
   "source": [
    "#Name-Abha Mahato regno-2241013032 sec-07 \n",
    "#assignment 4\n",
    "#1(f) List of all subject codes in this semester:\n",
    "subject_codes = ['MTH2002','HSS2021','CSE2195','CSE3131','EET1211']\n",
    "print(subject_codes)"
   ]
  },
  {
   "cell_type": "code",
   "execution_count": 8,
   "id": "821496b5",
   "metadata": {},
   "outputs": [
    {
     "name": "stdout",
     "output_type": "stream",
     "text": [
      "[28.5, 30.1, 29.7, 27.8, 26.3, 31.2, 29.9, 28.4, 30.5, 27.2]\n"
     ]
    }
   ],
   "source": [
    "#Name-Abha Mahato regno-2241013032 sec-07 \n",
    "#assignment 4\n",
    "#1(g) List of temperatures from the last 10 days:\n",
    "temperatures = [28.5, 30.1, 29.7, 27.8, 26.3, 31.2, 29.9, 28.4, 30.5, 27.2]\n",
    "print(temperatures)"
   ]
  },
  {
   "cell_type": "markdown",
   "id": "aa233185",
   "metadata": {},
   "source": [
    "2. Predict the output of following instructions when typed in Jupyter Notebook Cell and note down every output in your assignment copy."
   ]
  },
  {
   "cell_type": "code",
   "execution_count": 12,
   "id": "292d7b31",
   "metadata": {
    "scrolled": false
   },
   "outputs": [
    {
     "name": "stdout",
     "output_type": "stream",
     "text": [
      "range(0, 15)\n",
      "[0, 1, 2, 3, 4, 5, 6, 7, 8, 9, 10, 11, 12, 13, 14]\n"
     ]
    }
   ],
   "source": [
    "#Name-Abha Mahato regno-2241013032 sec-07 \n",
    "#assignment 4\n",
    "#2A\n",
    "listObj = range(15)\n",
    "print(listObj)\n",
    "print(list(listObj))"
   ]
  },
  {
   "cell_type": "code",
   "execution_count": 13,
   "id": "3c44897f",
   "metadata": {},
   "outputs": [
    {
     "name": "stdout",
     "output_type": "stream",
     "text": [
      "<class 'list'>\n",
      "Bob\n",
      "100.55\n",
      "55\n",
      "Will\n",
      "Will\n",
      "['Will', 55, 'Will']\n",
      "[55, 'Will', 'XXXXX']\n",
      "['Bob', 'Joe', 'Will', 55, 'Will']\n",
      "['Will', 55, 'Will', 'XXXXX', 100.55]\n",
      "['Bob', 'Joe', 'Will', 55, 'Will', 'XXXXX', 100.55]\n",
      "['Bob', 'Will', 'Will']\n",
      "['Bob', 'Will', 'Will', 100.55]\n",
      "[100.55, 'XXXXX', 'Will', 55, 'Will', 'Joe', 'Bob']\n",
      "['Joe', 55]\n"
     ]
    }
   ],
   "source": [
    "#Name-Abha Mahato regno-2241013032 sec-07 \n",
    "#assignment 4\n",
    "#2B\n",
    "someList = [\"Bob\", \"Joe\", \"Will\", 55, \"Will\", \"XXXXX\", 100.55]\n",
    "print(type(someList))\n",
    "print(someList[0])\n",
    "print(someList[-1])\n",
    "print(someList[3])\n",
    "print(someList[-3])\n",
    "print(someList[2])\n",
    "print(someList[2:5])\n",
    "print(someList[-4:-1])\n",
    "print(someList[:5])\n",
    "print(someList[2:])\n",
    "print(someList[:])\n",
    "print(someList[0:6:2])\n",
    "print(someList[::2])\n",
    "print(someList[::-1])\n",
    "print(someList[1:5:2])"
   ]
  },
  {
   "cell_type": "code",
   "execution_count": 17,
   "id": "c14e96e9",
   "metadata": {},
   "outputs": [
    {
     "name": "stdout",
     "output_type": "stream",
     "text": [
      "[2, 3, 'SampleText', None]\n",
      "SampleText\n",
      "SampleText\n",
      "[2, 3, 'SampleText', None]\n",
      "\n"
     ]
    }
   ],
   "source": [
    "#Name-Abha Mahato regno-2241013032 sec-07 \n",
    "#assignment 4\n",
    "#2C\n",
    "list1 = [2, 3, 7, None]\n",
    "list2 = [\"foo\", \"bar\", \"baz\"]\n",
    "list2 = list1\n",
    "list2[2] = \"SampleText\"\n",
    "print(list1)\n",
    "print(list1[2])\n",
    "print(list2[2])\n",
    "print(list2)\n",
    "print()"
   ]
  },
  {
   "cell_type": "code",
   "execution_count": 19,
   "id": "18d8e12a",
   "metadata": {},
   "outputs": [
    {
     "name": "stdout",
     "output_type": "stream",
     "text": [
      "['foo', 'bar', 'peekaboo']\n",
      "None\n",
      "['foo', 'bar', 'peekaboo', 'dwarf']\n",
      "None\n",
      "['foo', 'red', 'bar', 'peekaboo', 'dwarf']\n",
      "bar\n",
      "['foo', 'red', 'peekaboo', 'dwarf']\n",
      "None\n",
      "['foo', 'red', 'peekaboo', 'dwarf', 'foo']\n",
      "['red', 'peekaboo', 'dwarf', 'foo']\n",
      "True\n",
      "False\n"
     ]
    }
   ],
   "source": [
    "#Name-Abha Mahato regno-2241013032 sec-07 \n",
    "#assignment 4\n",
    "#2d\n",
    "wordList = ['foo', 'bar', 'baz']\n",
    "wordList[2] = \"peekaboo\"\n",
    "print(wordList)\n",
    "print(wordList.append(\"dwarf\"))\n",
    "print(wordList)\n",
    "print(wordList.insert(1, \"red\"))\n",
    "print(wordList)\n",
    "print(wordList.pop(2))\n",
    "print(wordList)\n",
    "print(wordList.append(\"foo\"))\n",
    "print(wordList)\n",
    "wordList.remove(\"foo\")\n",
    "print(wordList)\n",
    "print(\"dwarf\" in wordList)\n",
    "print(\"dwarf\" not in wordList)"
   ]
  },
  {
   "cell_type": "code",
   "execution_count": 22,
   "id": "16b0465b",
   "metadata": {},
   "outputs": [
    {
     "name": "stdout",
     "output_type": "stream",
     "text": [
      "[4, None, 'foo', 7, 8, 2, 3]\n",
      "[4, None, 'foo', 7, 8, 2, 3]\n",
      "None\n",
      "['A', ('B', 'C'), 4, None, 'foo', 7, 8, 2, 3]\n",
      "[4, None, 'foo', 7, 8, 2, 3]\n",
      "[7, 2, 5, 1, 3, 73, 51, 7, 3, 9, 11, 1, 1, 10, 9]\n",
      "None\n",
      "[1, 1, 1, 2, 3, 3, 5, 7, 7, 9, 9, 10, 11, 51, 73]\n",
      "None\n",
      "['He', 'saw', 'six', 'small', 'foxes']\n",
      "None\n",
      "['He', 'foxes', 'saw', 'six', 'small']\n"
     ]
    }
   ],
   "source": [
    "#Name-Abha Mahato regno-2241013032 sec-07 \n",
    "#assignment 4\n",
    "#2e\n",
    "print([4, None, \"foo\"] + [7, 8, 2, 3])\n",
    "list1 = [4, None, \"foo\"] + [7, 8, 2, 3]\n",
    "print(list1)\n",
    "x = ['A', ('B', 'C')]\n",
    "print(x.extend(list1))\n",
    "print(x)\n",
    "print(list1)\n",
    "a = [7, 2, 5, 1, 3, 73, 51, 7, 3, 9, 11, 1, 1, 10, 9]\n",
    "print(a)\n",
    "print(a.sort())\n",
    "print(a)\n",
    "b = [\"saw\", \"small\", \"He\", \"foxes\", \"six\"]\n",
    "print(b.sort(key=len))\n",
    "print(b)\n",
    "print(b.sort())\n",
    "print(b)"
   ]
  },
  {
   "cell_type": "markdown",
   "id": "0e868193",
   "metadata": {},
   "source": [
    "3. Develop Python Programs for the following below scenario.\n",
    "(a) Write a Python Program which will prompt user to ask a range of integer(lower limit and higher limit) value. Once you receive the input values from the user programmatically store odd numbersand even numbers into separate list objects and display them as output."
   ]
  },
  {
   "cell_type": "code",
   "execution_count": 23,
   "id": "ca524bfc",
   "metadata": {},
   "outputs": [
    {
     "name": "stdout",
     "output_type": "stream",
     "text": [
      "Enter the lower limit: 2\n",
      "Enter the upper limit: 7\n",
      "Odd numbers: [3, 5, 7]\n",
      "Even numbers: [2, 4, 6]\n"
     ]
    }
   ],
   "source": [
    "#Name-Abha Mahato regno-2241013032 sec-07 \n",
    "#assignment 4\n",
    "#3a\n",
    "lower_limit = int(input(\"Enter the lower limit: \"))\n",
    "upper_limit = int(input(\"Enter the upper limit: \"))\n",
    "\n",
    "odd_numbers = []\n",
    "even_numbers = []\n",
    "\n",
    "for num in range(lower_limit, upper_limit + 1):\n",
    "    if num % 2 == 0:\n",
    "        even_numbers.append(num)\n",
    "    else:\n",
    "        odd_numbers.append(num)\n",
    "\n",
    "print(\"Odd numbers:\", odd_numbers)\n",
    "print(\"Even numbers:\", even_numbers)\n"
   ]
  },
  {
   "cell_type": "markdown",
   "id": "d2300ac0",
   "metadata": {},
   "source": [
    "(b) Write a Python Program which will prompt user to enter a positive integer value. Once you receive\n",
    "the input, find factors of the integer and store into a list objects and display them as output."
   ]
  },
  {
   "cell_type": "code",
   "execution_count": 24,
   "id": "18ab295c",
   "metadata": {},
   "outputs": [
    {
     "name": "stdout",
     "output_type": "stream",
     "text": [
      "Enter a positive integer: 5\n",
      "Factors of 5 are: [1, 5]\n"
     ]
    }
   ],
   "source": [
    "#Name-Abha Mahato regno-2241013032 sec-07 \n",
    "#assignment 4\n",
    "#3b\n",
    "number = int(input(\"Enter a positive integer: \"))\n",
    "\n",
    "factors = [x for x in range(1, number + 1) if number % x == 0]\n",
    "\n",
    "print(\"Factors of\", number, \"are:\", factors)\n"
   ]
  },
  {
   "cell_type": "markdown",
   "id": "01288553",
   "metadata": {},
   "source": [
    "(c) Program to separate prime and composite numbers from a given range:"
   ]
  },
  {
   "cell_type": "code",
   "execution_count": 25,
   "id": "2a5b5e8a",
   "metadata": {},
   "outputs": [
    {
     "name": "stdout",
     "output_type": "stream",
     "text": [
      "Enter the lower limit: 1\n",
      "Enter the upper limit: 24\n",
      "Prime numbers: [2, 3, 5, 7, 11, 13, 17, 19, 23]\n",
      "Composite numbers: [4, 6, 8, 9, 10, 12, 14, 15, 16, 18, 20, 21, 22, 24]\n"
     ]
    }
   ],
   "source": [
    "#Name-Abha Mahato regno-2241013032 sec-07 \n",
    "#assignment 4\n",
    "#3c\n",
    "lower_limit = int(input(\"Enter the lower limit: \"))\n",
    "upper_limit = int(input(\"Enter the upper limit: \"))\n",
    "\n",
    "prime_numbers = []\n",
    "composite_numbers = []\n",
    "\n",
    "for num in range(lower_limit, upper_limit + 1):\n",
    "    if num < 2:\n",
    "        continue\n",
    "    is_prime = True\n",
    "    for i in range(2, int(num**0.5) + 1):\n",
    "        if num % i == 0:\n",
    "            is_prime = False\n",
    "            break\n",
    "    if is_prime:\n",
    "        prime_numbers.append(num)\n",
    "    else:\n",
    "        composite_numbers.append(num)\n",
    "\n",
    "print(\"Prime numbers:\", prime_numbers)\n",
    "print(\"Composite numbers:\", composite_numbers)\n"
   ]
  },
  {
   "cell_type": "markdown",
   "id": "9796b308",
   "metadata": {},
   "source": [
    "4. What is a Tuple Object in Python? Write the syntax, how we create a Tuple object? For the following\n",
    "scenario create Tuple object of each scenario and display them as output.\n",
    "(a) Tuple of few student’s information such as roll number, name, branch, specialization, mobile,\n",
    "email id etc.\n",
    "(b) Tuple of few book’s information such as ISBN Number, book title, category, author, number of\n",
    "authors etc.\n",
    "(c) Tuple of few parts of a vehicle.\n",
    "(d) Tuple of few institution details such as name of the institute, departments, no. of students, address\n",
    "etc.\n",
    "(e) Create tuple objects from List objects at all scenario in Question No. 1."
   ]
  },
  {
   "cell_type": "markdown",
   "id": "b7277e80",
   "metadata": {},
   "source": [
    "ANSWER-A tuple is a built-in data structure in Python that is similar to a list but is immutable, meaning its elements cannot be changed after creation. Tuples are defined using parentheses () and the elements within a tuple are separated by commas."
   ]
  },
  {
   "cell_type": "markdown",
   "id": "098619ce",
   "metadata": {},
   "source": [
    "my_tuple = (item1, item2, item3, ...)"
   ]
  },
  {
   "cell_type": "code",
   "execution_count": 29,
   "id": "ee895c53",
   "metadata": {},
   "outputs": [
    {
     "name": "stdout",
     "output_type": "stream",
     "text": [
      "(2241013032, 'ABHA MAHATO', 'CSE', 'DATA SCIENCE', '9031490620', 'abhamahato2004@gmail.com')\n",
      "(2241011211, 'VIVEK KUMAR', 'CSE', 'CORE', '9162619621', 'vivek.kr51556@gmail.com')\n"
     ]
    }
   ],
   "source": [
    "#Name-Abha Mahato regno-2241013032 sec-07 \n",
    "#assignment 4\n",
    "#4A  Tuple of student's information:\n",
    "student1_info = (2241013032, \"ABHA MAHATO\", \"CSE\", \"DATA SCIENCE\", \"9031490620\", \"abhamahato2004@gmail.com\")\n",
    "print(student1_info)\n",
    "student2_info = (2241011211, \"VIVEK KUMAR\", \"CSE\", \"CORE\", \"9162619621\", \"vivek.kr51556@gmail.com\")\n",
    "print(student2_info)"
   ]
  },
  {
   "cell_type": "code",
   "execution_count": 30,
   "id": "3854acf9",
   "metadata": {},
   "outputs": [
    {
     "name": "stdout",
     "output_type": "stream",
     "text": [
      "('ISBN123456', 'Python Programming', 'Programming', 'John Smith', 1)\n"
     ]
    }
   ],
   "source": [
    "#Name-Abha Mahato regno-2241013032 sec-07 \n",
    "#assignment 4\n",
    "#4b  Tuple of book's information:\n",
    "book_info = (\"ISBN123456\", \"Python Programming\", \"Programming\", \"John Smith\", 1)\n",
    "print(book_info)"
   ]
  },
  {
   "cell_type": "code",
   "execution_count": 31,
   "id": "d16ae210",
   "metadata": {},
   "outputs": [
    {
     "name": "stdout",
     "output_type": "stream",
     "text": [
      "('Engine', 'Wheels', 'Brakes', 'Transmission', 'Suspension')\n"
     ]
    }
   ],
   "source": [
    "#Name-Abha Mahato regno-2241013032 sec-07 \n",
    "#assignment 4\n",
    "#4c) Tuple of parts of a vehicle: \n",
    "vehicle_parts = (\"Engine\", \"Wheels\", \"Brakes\", \"Transmission\", \"Suspension\")\n",
    "print(vehicle_parts)"
   ]
  },
  {
   "cell_type": "code",
   "execution_count": 32,
   "id": "b2000e14",
   "metadata": {},
   "outputs": [
    {
     "name": "stdout",
     "output_type": "stream",
     "text": [
      "('ITER SOA', ['Computer Science', 'Electrical Engineering', 'Computer Science And Information technology', 'Mechnical Engineering', 'Civil Enginnering'], 7000, 'BHUBANSAWER')\n"
     ]
    }
   ],
   "source": [
    "#Name-Abha Mahato regno-2241013032 sec-07 \n",
    "#assignment 4\n",
    "#4(d) Tuple of institution details:\n",
    "institution_details = (\"ITER SOA\", [\"Computer Science\", \"Electrical Engineering\",\"Computer Science And Information technology\",\"Mechnical Engineering\",\"Civil Enginnering\"], 7000, \"BHUBANSAWER\")\n",
    "print(institution_details)\n"
   ]
  },
  {
   "cell_type": "code",
   "execution_count": 34,
   "id": "d7db6fe2",
   "metadata": {},
   "outputs": [
    {
     "name": "stdout",
     "output_type": "stream",
     "text": [
      "('a', 'e', 'i', 'o', 'u')\n"
     ]
    }
   ],
   "source": [
    "#Name-Abha Mahato regno-2241013032 sec-07 \n",
    "#assignment 4\n",
    "#4(e) Create Tuple objects from List objects in Question No. 1:\n",
    "#4(e.1) Tuple of vowels:\n",
    "vowels_list = ['a', 'e', 'i', 'o', 'u']\n",
    "vowels_tuple = tuple(vowels_list)\n",
    "print(vowels_tuple)\n"
   ]
  },
  {
   "cell_type": "code",
   "execution_count": 35,
   "id": "2075602a",
   "metadata": {},
   "outputs": [
    {
     "name": "stdout",
     "output_type": "stream",
     "text": [
      "('b', 'c', 'd', 'f', 'g', 'h', 'j', 'k', 'l', 'm', 'n', 'p', 'q', 'r', 's', 't', 'v', 'w', 'x', 'y', 'z')\n"
     ]
    }
   ],
   "source": [
    "#Name-Abha Mahato regno-2241013032 sec-07 \n",
    "#assignment 4\n",
    "#4(e.2) Tuple of consonants:\n",
    "consonants_list = ['b', 'c', 'd', 'f', 'g', 'h', 'j', 'k', 'l', 'm', 'n', 'p', 'q', 'r', 's', 't', 'v', 'w', 'x', 'y', 'z']\n",
    "consonants_tuple = tuple(consonants_list)\n",
    "print(consonants_tuple)\n"
   ]
  },
  {
   "cell_type": "code",
   "execution_count": 36,
   "id": "30e426a7",
   "metadata": {},
   "outputs": [
    {
     "name": "stdout",
     "output_type": "stream",
     "text": [
      "(2, 4, 6, 8, 10, 12, 14, 16, 18, 20)\n"
     ]
    }
   ],
   "source": [
    "#Name-Abha Mahato regno-2241013032 sec-07 \n",
    "#assignment 4\n",
    "#(e.3) Tuple of even integers within 1 to 20:\n",
    "even_numbers_list = [x for x in range(2, 21, 2)]\n",
    "even_numbers_tuple = tuple(even_numbers_list)\n",
    "print(even_numbers_tuple)\n"
   ]
  },
  {
   "cell_type": "code",
   "execution_count": 38,
   "id": "ea18618a",
   "metadata": {},
   "outputs": [
    {
     "name": "stdout",
     "output_type": "stream",
     "text": [
      "(1, 3, 5, 7, 9, 11, 13, 15, 17, 19)\n"
     ]
    }
   ],
   "source": [
    "#Name-Abha Mahato regno-2241013032 sec-07 \n",
    "#assignment 4\n",
    "#(e.4) Tuple of odd integers within 1 to 20:\n",
    "odd_numbers_list = [x for x in range(1, 21, 2)]\n",
    "odd_numbers_tuple = tuple(odd_numbers_list)\n",
    "print(odd_numbers_tuple)\n"
   ]
  },
  {
   "cell_type": "code",
   "execution_count": 41,
   "id": "740ebfca",
   "metadata": {},
   "outputs": [
    {
     "name": "stdout",
     "output_type": "stream",
     "text": [
      "('Probability and Statistics', 'Principle of Economics', 'Data Science workshop-I', 'Algorithms Design', 'Digital Logic Design')\n"
     ]
    }
   ],
   "source": [
    "#Name-Abha Mahato regno-2241013032 sec-07 \n",
    "#assignment 4\n",
    "#(e.5) Tuple of subjects in this semester:\n",
    "subjects_list = ['Probability and Statistics', 'Principle of Economics', 'Data Science workshop-I', 'Algorithms Design', 'Digital Logic Design']\n",
    "subjects_tuple = tuple(subjects_list)\n",
    "print(subjects_tuple)"
   ]
  },
  {
   "cell_type": "code",
   "execution_count": 42,
   "id": "63b94a2e",
   "metadata": {},
   "outputs": [
    {
     "name": "stdout",
     "output_type": "stream",
     "text": [
      "('MTH2002', 'HSS2021', 'CSE2195', 'CSE3131', 'EET1211')\n"
     ]
    }
   ],
   "source": [
    "#Name-Abha Mahato regno-2241013032 sec-07 \n",
    "#assignment 4\n",
    "#(e.6) Tuple of subject codes in this semester:\n",
    "subject_codes_list = ['MTH2002','HSS2021','CSE2195','CSE3131','EET1211']\n",
    "subject_codes_tuple = tuple(subject_codes_list)\n",
    "print(subject_codes_tuple)"
   ]
  },
  {
   "cell_type": "code",
   "execution_count": 43,
   "id": "9aa13525",
   "metadata": {},
   "outputs": [
    {
     "name": "stdout",
     "output_type": "stream",
     "text": [
      "(28.5, 30.1, 29.7, 27.8, 26.3, 31.2, 29.9, 28.4, 30.5, 27.2)\n"
     ]
    }
   ],
   "source": [
    "#Name-Abha Mahato regno-2241013032 sec-07 \n",
    "#assignment 4\n",
    "#(e.7) Tuple of temperatures from the last 10 days:\n",
    "temperatures_list = [28.5, 30.1, 29.7, 27.8, 26.3, 31.2, 29.9, 28.4, 30.5, 27.2]\n",
    "temperatures_tuple = tuple(temperatures_list)\n",
    "print(temperatures_tuple)\n"
   ]
  },
  {
   "cell_type": "markdown",
   "id": "036db95e",
   "metadata": {},
   "source": [
    "5. Predict the output of following instructions when typed in Jupyter Notebook Cell and note down every output in your assignment copy."
   ]
  },
  {
   "cell_type": "code",
   "execution_count": 44,
   "id": "9a820531",
   "metadata": {},
   "outputs": [
    {
     "name": "stdout",
     "output_type": "stream",
     "text": [
      "(4, 5, 6, 'Abha', 'Mahato', 120.5643)\n",
      "<class 'tuple'>\n",
      "(2, 5, 1, 9, 5, 3, 8)\n",
      "(4, 5, 6)\n",
      "(2, 5, 1, 9, 5, 3, 8)\n",
      "<class 'tuple'>\n",
      "('s', 't', 'r', 'i', 'n', 'g')\n"
     ]
    }
   ],
   "source": [
    "#Name-Abha Mahato regno-2241013032 sec-07 \n",
    "#assignment 4\n",
    "#5a)\n",
    "tupleObj = (4, 5, 6, \"Abha\", \"Mahato\", 120.5643)\n",
    "print(tupleObj)\n",
    "print(type(tupleObj))\n",
    "print(tuple((2, 5, 1, 9, 5, 3, 8)))\n",
    "print(tuple((4, 5, 6)))\n",
    "x = tuple([2, 5, 1, 9, 5, 3, 8])\n",
    "print(x)\n",
    "y = x\n",
    "print(type(y))\n",
    "tupleObj = tuple('string')\n",
    "print(tupleObj)"
   ]
  },
  {
   "cell_type": "code",
   "execution_count": 45,
   "id": "420ae8e2",
   "metadata": {},
   "outputs": [
    {
     "name": "stdout",
     "output_type": "stream",
     "text": [
      "<class 'tuple'>\n",
      "Bob\n",
      "100.55\n",
      "55\n",
      "Will\n",
      "Will\n",
      "('Will', 55, 'Will')\n",
      "(55, 'Will', 'XXXXX')\n",
      "('Bob', 'Joe', 'Will', 55, 'Will')\n",
      "('Will', 55, 'Will', 'XXXXX', 100.55)\n",
      "('Bob', 'Joe', 'Will', 55, 'Will', 'XXXXX', 100.55)\n",
      "('Bob', 'Will', 'Will')\n",
      "('Bob', 'Will', 'Will', 100.55)\n",
      "(100.55, 'XXXXX', 'Will', 55, 'Will', 'Joe', 'Bob')\n",
      "('Joe', 55)\n"
     ]
    }
   ],
   "source": [
    "#Name-Abha Mahato regno-2241013032 sec-07 \n",
    "#assignment 4\n",
    "#5b)\n",
    "someList = [\"Bob\", \"Joe\", \"Will\", 55, \"Will\", \"XXXXX\", 100.55]\n",
    "someTuple = tuple(someList)\n",
    "print(type(someTuple))\n",
    "print(someTuple[0])\n",
    "print(someTuple[-1])\n",
    "print(someTuple[3])\n",
    "print(someTuple[-3])\n",
    "print(someTuple[2])\n",
    "print(someTuple[2:5])\n",
    "print(someTuple[-4:-1])\n",
    "print(someTuple[:5])\n",
    "print(someTuple[2:])\n",
    "print(someTuple[:])\n",
    "print(someTuple[0:6:2])\n",
    "print(someTuple[::2])\n",
    "print(someTuple[::-1])\n",
    "print(someTuple[1:5:2])"
   ]
  },
  {
   "cell_type": "code",
   "execution_count": 49,
   "id": "e80bba53",
   "metadata": {},
   "outputs": [
    {
     "name": "stdout",
     "output_type": "stream",
     "text": [
      "((4, 5, 6), (7, 8))\n",
      "(7, 8)\n",
      "None\n",
      "('foo', [1, 2, 3], True)\n",
      "[2, 3, 'SampleText', None]\n"
     ]
    },
    {
     "ename": "TypeError",
     "evalue": "'tuple' object does not support item assignment",
     "output_type": "error",
     "traceback": [
      "\u001b[1;31m---------------------------------------------------------------------------\u001b[0m",
      "\u001b[1;31mTypeError\u001b[0m                                 Traceback (most recent call last)",
      "Cell \u001b[1;32mIn[49], line 9\u001b[0m\n\u001b[0;32m      7\u001b[0m \u001b[38;5;28mprint\u001b[39m(tup)\n\u001b[0;32m      8\u001b[0m \u001b[38;5;28mprint\u001b[39m(list2)\n\u001b[1;32m----> 9\u001b[0m tup[\u001b[38;5;241m2\u001b[39m] \u001b[38;5;241m=\u001b[39m \u001b[38;5;28;01mFalse\u001b[39;00m\n",
      "\u001b[1;31mTypeError\u001b[0m: 'tuple' object does not support item assignment"
     ]
    }
   ],
   "source": [
    "#Name-Abha Mahato regno-2241013032 sec-07 \n",
    "#assignment 4\n",
    "#5c\n",
    "nestedTuple = (4, 5, 6), (7, 8)\n",
    "print(nestedTuple)\n",
    "print(nestedTuple[1])\n",
    "tup = tuple(['foo', [1, 2], True])\n",
    "print(tup[1].append(3))\n",
    "print(tup)\n",
    "print(list2)\n",
    "tup[2] = False"
   ]
  },
  {
   "cell_type": "code",
   "execution_count": 51,
   "id": "50c5c759",
   "metadata": {},
   "outputs": [
    {
     "name": "stdout",
     "output_type": "stream",
     "text": [
      "5\n",
      "7\n",
      "2\n",
      "1\n",
      "a=a, b=b, c=c\n",
      "a=a, b=b, c=c\n",
      "a=a, b=b, c=c\n",
      "1\n",
      "2\n",
      "[3, 4, 5]\n"
     ]
    }
   ],
   "source": [
    "#Name-Abha Mahato regno-2241013032 sec-07 \n",
    "#assignment 4\n",
    "#5d\n",
    "tup = (4, 5, 6)\n",
    "a, b, c = tup\n",
    "print(b)\n",
    "tup = 4, 5, (6, 7)\n",
    "a, b, (c, d) = tup\n",
    "print(d)\n",
    "a, b = 1, 2\n",
    "a, b = b, a\n",
    "print(a)\n",
    "print(b)\n",
    "seq = [(1, 2, 3), (4, 5, 6), (7, 8, 9)]\n",
    "for a, b, c in seq:\n",
    "    print(f'a=a, b=b, c=c')\n",
    "values = 1, 2, 3, 4, 5\n",
    "a, b, *rest = values\n",
    "print(a)\n",
    "print(b)\n",
    "print(rest)\n"
   ]
  },
  {
   "cell_type": "code",
   "execution_count": 55,
   "id": "ae536525",
   "metadata": {},
   "outputs": [
    {
     "name": "stdout",
     "output_type": "stream",
     "text": [
      "(4, None, 'foo', 6, 0, 'bar')\n",
      "(4, None, 'foo', 6, 0, 'bar')\n",
      "('foo', 'bar', 'foo', 'bar', 'foo', 'bar', 'foo', 'bar')\n",
      "7\n",
      "14\n"
     ]
    }
   ],
   "source": [
    "#Name-Abha Mahato regno-2241013032 sec-07 \n",
    "#assignment 4\n",
    "#5e\n",
    "print((4, None, 'foo') + (6, 0) + ('bar',))\n",
    "tuple1 = (4, None, 'foo') + (6, 0) + ('bar',)\n",
    "print(tuple1)\n",
    "print(('foo', 'bar') * 4)\n",
    "a = (1, 7, 2, 7, 2, 2, 7, 3, 7, 4, 7, 7, 2, 7)\n",
    "print(a.count(7))\n",
    "print(len(a))"
   ]
  },
  {
   "cell_type": "code",
   "execution_count": 56,
   "id": "086706a6",
   "metadata": {},
   "outputs": [
    {
     "name": "stdout",
     "output_type": "stream",
     "text": [
      "Enter your name: abha\n",
      "Enter your department: cse ds\n",
      "Enter your mobile number: 09031490620\n",
      "Enter your roll number: 2241013032\n",
      "Enter your name: vivek\n",
      "Enter your department: cse core\n",
      "Enter your mobile number: 9162619621\n",
      "Enter your roll number: 2241011211\n",
      "Enter your name: mrudula\n",
      "Enter your department: cse core\n",
      "Enter your mobile number: 8123489456\n",
      "Enter your roll number: 224100203\n",
      "Enter your name: varsha\n",
      "Enter your department: cse core\n",
      "Enter your mobile number: 2345679876\n",
      "Enter your roll number: 2241013456\n",
      "Enter your name: alankrita\n",
      "Enter your department: cse core\n",
      "Enter your mobile number: 9876543451\n",
      "Enter your roll number: 2241012345\n",
      "Name: abha\n",
      "Department: cse ds\n",
      "Mobile Number: 09031490620\n",
      "Roll Number: 2241013032\n",
      "Name: vivek\n",
      "Department: cse core\n",
      "Mobile Number: 9162619621\n",
      "Roll Number: 2241011211\n",
      "Name: mrudula\n",
      "Department: cse core\n",
      "Mobile Number: 8123489456\n",
      "Roll Number: 224100203\n",
      "Name: varsha\n",
      "Department: cse core\n",
      "Mobile Number: 2345679876\n",
      "Roll Number: 2241013456\n",
      "Name: alankrita\n",
      "Department: cse core\n",
      "Mobile Number: 9876543451\n",
      "Roll Number: 2241012345\n"
     ]
    }
   ],
   "source": [
    "#Name-Abha Mahato regno-2241013032 sec-07 \n",
    "#assignment 4\n",
    "#6(a) Prompting the user to enter personal details and storing them in tuple objects:\n",
    "user_details = []\n",
    "\n",
    "for _ in range(5):  # Collect details for 5 users\n",
    "    name = input(\"Enter your name: \")\n",
    "    department = input(\"Enter your department: \")\n",
    "    mobile_number = input(\"Enter your mobile number: \")\n",
    "    roll_number = input(\"Enter your roll number: \")\n",
    "    user_info = (name, department, mobile_number, roll_number)\n",
    "    user_details.append(user_info)\n",
    "\n",
    "for user_info in user_details:\n",
    "    print(\"Name:\", user_info[0])\n",
    "    print(\"Department:\", user_info[1])\n",
    "    print(\"Mobile Number:\", user_info[2])\n",
    "    print(\"Roll Number:\", user_info[3])\n"
   ]
  },
  {
   "cell_type": "code",
   "execution_count": 59,
   "id": "ca428dc2",
   "metadata": {},
   "outputs": [
    {
     "name": "stdout",
     "output_type": "stream",
     "text": [
      "Enter lower limit: 1\n",
      "Enter upper limit: 10\n",
      "Even Numbers: (2, 4, 6, 8, 10)\n",
      "Odd Numbers: (1, 3, 5, 7, 9)\n"
     ]
    }
   ],
   "source": [
    "#6b(a) Storing odd and even numbers in separate tuple using list objects:\n",
    "lower_limit = int(input(\"Enter lower limit: \"))\n",
    "upper_limit = int(input(\"Enter upper limit: \"))\n",
    "\n",
    "even_numbers = [x for x in range(lower_limit, upper_limit + 1) if x % 2 == 0]\n",
    "odd_numbers = [x for x in range(lower_limit, upper_limit + 1) if x % 2 != 0]\n",
    "even_numbers_tuple=tuple(even_numbers)\n",
    "odd_numbers_tuple=tuple(odd_numbers)\n",
    "print(\"Even Numbers:\", even_numbers_tuple)\n",
    "print(\"Odd Numbers:\", odd_numbers_tuple)\n"
   ]
  },
  {
   "cell_type": "code",
   "execution_count": 62,
   "id": "d5d037cb",
   "metadata": {},
   "outputs": [
    {
     "name": "stdout",
     "output_type": "stream",
     "text": [
      "Enter a positive integer: 20\n",
      "Factors of 20 are: (1, 2, 4, 5, 10, 20)\n"
     ]
    }
   ],
   "source": [
    "#6b(b)Finding factors of a positive integer and storing them in a  tuple using list object:\n",
    "number = int(input(\"Enter a positive integer: \"))\n",
    "factors = [x for x in range(1, number + 1) if number % x == 0]\n",
    "factors_tuple=tuple(factors )\n",
    "print(\"Factors of\", number, \"are:\", factors_tuple)"
   ]
  },
  {
   "cell_type": "code",
   "execution_count": 65,
   "id": "480f5584",
   "metadata": {},
   "outputs": [
    {
     "name": "stdout",
     "output_type": "stream",
     "text": [
      "Enter lower limit: 1\n",
      "Enter upper limit: 20\n",
      "Prime Numbers: (2, 3, 5, 7, 11, 13, 17, 19)\n",
      "Composite Numbers: (4, 6, 8, 9, 10, 12, 14, 15, 16, 18, 20)\n"
     ]
    }
   ],
   "source": [
    "#6b(c)Listing prime and composite numbers in a given range using tuple in list objects:\n",
    "lower_limit = int(input(\"Enter lower limit: \"))\n",
    "upper_limit = int(input(\"Enter upper limit: \"))\n",
    "\n",
    "prime_numbers = []\n",
    "composite_numbers = []\n",
    "\n",
    "for num in range(lower_limit, upper_limit + 1):\n",
    "    if num > 1:\n",
    "        for i in range(2, num):\n",
    "            if (num % i) == 0:\n",
    "                composite_numbers.append(num)\n",
    "                break\n",
    "        else:\n",
    "            prime_numbers.append(num)\n",
    "prime_numbers_tuple=tuple(prime_numbers)\n",
    "composite_numbers_tuple=tuple(composite_numbers)\n",
    "print(\"Prime Numbers:\", prime_numbers_tuple)\n",
    "print(\"Composite Numbers:\", composite_numbers_tuple)"
   ]
  },
  {
   "cell_type": "markdown",
   "id": "91af7f89",
   "metadata": {},
   "source": [
    "7. What is a Dictionary Object in Python? Write the syntax, how we create a Dictionary object? For\n",
    "the following questions create Dictionary object of each scenario and display them as output.\n",
    "(a) Dictionary of few peoples as key and their mobile numbers as values(at least for 10 key).\n",
    "(b) Dictionary of few books as key and their authors(authors should be a list object) as values.\n",
    "(c) Dictionary of different types numbers(such as prime, composite, even, odd etc.) as keys and their\n",
    "examples as values.\n",
    "(d) Dictionary of engineering branches as keys and their specializations as values.\n",
    "(e) Dictionary of employee ids as keys and their details(as tuple) as values.\n",
    "(f) Dictionary of subject code as key and subject details(as list) such as course name, reference book,\n",
    "teacher name, department etc. as values.\n",
    "\n"
   ]
  },
  {
   "cell_type": "markdown",
   "id": "87c19fa5",
   "metadata": {},
   "source": [
    "ANSWER-A dictionary in Python is a collection of key-value pairs, where each key is associated with a value. The syntax for creating a dictionary is as follows:"
   ]
  },
  {
   "cell_type": "markdown",
   "id": "d3cda21f",
   "metadata": {},
   "source": [
    "my_dict = {\n",
    "    \"key1\": \"value1\",\n",
    "    \"key2\": \"value2\",\n",
    "    \"key3\": \"value3\",\n",
    "    # ...\n",
    "}\n"
   ]
  },
  {
   "cell_type": "code",
   "execution_count": 67,
   "id": "73fb8898",
   "metadata": {},
   "outputs": [
    {
     "name": "stdout",
     "output_type": "stream",
     "text": [
      "{'Alice': '123-456-7890', 'Bob': '987-654-3210', 'Charlie': '555-123-4567'}\n"
     ]
    }
   ],
   "source": [
    "people_mobile_dict = {\n",
    "    \"Abha\": \"123-456-7890\",\n",
    "    \"Bina\": \"987-654-3210\",\n",
    "    \"Ck\": \"555-123-4567\",\n",
    "    # Add more entries\n",
    "}\n",
    "print(people_mobile_dict)\n",
    "\n"
   ]
  },
  {
   "cell_type": "code",
   "execution_count": 68,
   "id": "9fe5ffee",
   "metadata": {},
   "outputs": [
    {
     "name": "stdout",
     "output_type": "stream",
     "text": [
      "{'Book1': ['Author1'], 'Book2': ['Author2', 'Author3'], 'Book3': ['Author4']}\n"
     ]
    }
   ],
   "source": [
    "books_authors_dict = {\n",
    "    \"DS\": [\"abha\"],\n",
    "    \"Book2\": [\"Author2\", \"Author3\"],\n",
    "    \"Book3\": [\"Author4\"],\n",
    "    # Add more entries\n",
    "}\n",
    "print(books_authors_dict)"
   ]
  },
  {
   "cell_type": "code",
   "execution_count": 69,
   "id": "03f7f006",
   "metadata": {},
   "outputs": [
    {
     "name": "stdout",
     "output_type": "stream",
     "text": [
      "{'Prime': [2, 3, 5, 7, 11], 'Composite': [4, 6, 8, 9, 10], 'Even': [2, 4, 6, 8, 10], 'Odd': [1, 3, 5, 7, 9]}\n"
     ]
    }
   ],
   "source": [
    "numbers_dict = {\n",
    "    \"Prime\": [2, 3, 5, 7, 11],\n",
    "    \"Composite\": [4, 6, 8, 9, 10],\n",
    "    \"Even\": [2, 4, 6, 8, 10],\n",
    "    \"Odd\": [1, 3, 5, 7, 9],\n",
    "}\n",
    "print(numbers_dict)"
   ]
  },
  {
   "cell_type": "code",
   "execution_count": 70,
   "id": "dd6aa9c3",
   "metadata": {},
   "outputs": [
    {
     "name": "stdout",
     "output_type": "stream",
     "text": [
      "{'Mechanical': ['Thermodynamics', 'Mechatronics', 'Automotive Engineering'], 'Electrical': ['Power Systems', 'Electronics', 'Control Systems'], 'Computer Science': ['Machine Learning', 'Software Engineering', 'Data Science']}\n"
     ]
    }
   ],
   "source": [
    "engineering_dict = {\n",
    "    \"Mechanical\": [\"Thermodynamics\", \"Mechatronics\", \"Automotive Engineering\"],\n",
    "    \"Electrical\": [\"Power Systems\", \"Electronics\", \"Control Systems\"],\n",
    "    \"Computer Science\": [\"Machine Learning\", \"Software Engineering\", \"Data Science\"],\n",
    "    # Add more entries\n",
    "}\n",
    "print(engineering_dict)"
   ]
  },
  {
   "cell_type": "code",
   "execution_count": 71,
   "id": "935cf16a",
   "metadata": {},
   "outputs": [
    {
     "name": "stdout",
     "output_type": "stream",
     "text": [
      "{'ID001': ('John Doe', 'Engineering', 'Senior Engineer'), 'ID002': ('Alice Smith', 'Marketing', 'Marketing Manager'), 'ID003': ('Bob Johnson', 'Finance', 'Accountant')}\n"
     ]
    }
   ],
   "source": [
    "employee_details_dict = {\n",
    "    \"ID001\": (\"John Doe\", \"Engineering\", \"Senior Engineer\"),\n",
    "    \"ID002\": (\"Alice Smith\", \"Marketing\", \"Marketing Manager\"),\n",
    "    \"ID003\": (\"Bob Johnson\", \"Finance\", \"Accountant\"),\n",
    "    # Add more entries\n",
    "}\n",
    "print(employee_details_dict)"
   ]
  },
  {
   "cell_type": "code",
   "execution_count": 17,
   "id": "adc7a1bf",
   "metadata": {},
   "outputs": [
    {
     "name": "stdout",
     "output_type": "stream",
     "text": [
      "{'CS101': ['Introduction to Programming', 'Python for Beginners', 'Dr. Smith', 'Computer Science'], 'ENG202': ['Advanced Mechanical Engineering', 'Mechanical Systems', 'Prof. Johnson', 'Mechanical Engineering']}\n"
     ]
    }
   ],
   "source": [
    "subject_details_dict = {\n",
    "    \"CS101\": [\"Introduction to Programming\", \"Python for Beginners\", \"Dr. Smith\", \"Computer Science\"],\n",
    "    \"ENG202\": [\"Advanced Mechanical Engineering\", \"Mechanical Systems\", \"Prof. Johnson\", \"Mechanical Engineering\"],\n",
    "    # Add more entries\n",
    "}\n",
    "print(subject_details_dict)"
   ]
  },
  {
   "cell_type": "markdown",
   "id": "7490de34",
   "metadata": {},
   "source": [
    "8. Predict the output of following instructions when typed in Jupyter Notebook Cell and note down every\n",
    "output in your assignment copy."
   ]
  },
  {
   "cell_type": "code",
   "execution_count": 16,
   "id": "21ab5e75",
   "metadata": {},
   "outputs": [
    {
     "name": "stdout",
     "output_type": "stream",
     "text": [
      "{'fruits': ['banana', 'apple', 'guava', 'jackfruit'], 'colors': ('red', 'blue', 'green'), 'int': 165, 'float': 99.56, 'string': 'some sample text'}\n",
      "<class 'dict'>\n",
      "{'key': 'value'}\n",
      "{'fruits': ['banana', 'apple', 'guava', 'jackfruit'], 'colors': ('red', 'blue', 'green'), 'int': 165, 'float': 99.56, 'string': 'some sample text', 10: 'New added value'}\n",
      "New added value\n",
      "165\n",
      "('red', 'blue', 'green')\n",
      "New added value\n"
     ]
    }
   ],
   "source": [
    "#a\n",
    "dictObj = {\"fruits\": [\"banana\", \"apple\", \"guava\", \"jackfruit\"], \"colors\": (\"red\", \"blue\", \"green\"),\n",
    "\"int\": 165, \"float\": 99.56, \"string\":\"some sample text\"}\n",
    "print(dictObj)\n",
    "print(type(dictObj))\n",
    "print({\"key\":\"value\"})\n",
    "dictObj[10] = \"New added value\"\n",
    "print(dictObj)\n",
    "print(dictObj[10])\n",
    "print(dictObj[\"int\"])\n",
    "print(dictObj[\"colors\"])\n",
    "print(dictObj[10])\n",
    "#print(dictObj['10']) key error"
   ]
  },
  {
   "cell_type": "code",
   "execution_count": 15,
   "id": "b4aef014",
   "metadata": {},
   "outputs": [
    {
     "name": "stdout",
     "output_type": "stream",
     "text": [
      "True\n",
      "False\n",
      "False\n",
      "False\n",
      "I am ancient 10 years old\n",
      "I am ancient 10 years old\n",
      "{'Bob': 10, 'Joe': 34, 'Limba': 55, 'XXXXX': 100}\n"
     ]
    }
   ],
   "source": [
    "#b\n",
    "dictObj2 = {\"Bob\":10, \"Joe\":34, \"Will\":77, \"Limba\":55, \"Will\":36, \"XXXXX\":100}\n",
    "print(\"Limba\" in dictObj2)\n",
    "print(55 in dictObj2)\n",
    "print(\"55\" in dictObj2)\n",
    "print(\"XXXXXX\" in dictObj2)\n",
    "dictObj2[\"Will\"] = ' '.join([\"I\", \"am\", \"ancient\", \"10\", \"years old\"])\n",
    "print(dictObj2[\"Will\"])\n",
    "# dictObj2.pop() expect an argument\n",
    "print(dictObj2.pop(\"Will\"))\n",
    "print(dictObj2)"
   ]
  },
  {
   "cell_type": "code",
   "execution_count": 8,
   "id": "2f8f47e9",
   "metadata": {},
   "outputs": [
    {
     "data": {
      "text/plain": [
       "{'fruits': ['banana', 'apple', 'guava', 'jackfruit'],\n",
       " 'colors': ('red', 'blue', 'green'),\n",
       " 'int': 165,\n",
       " 'float': 99.56,\n",
       " 'string': 'some sample text',\n",
       " 'iter': 'INSTITUTE OF TECHNICAL EDUCATION & RESEARCH',\n",
       " 'b': 'foo',\n",
       " 'c': 12}"
      ]
     },
     "execution_count": 8,
     "metadata": {},
     "output_type": "execute_result"
    }
   ],
   "source": [
    "#c\n",
    "dictObj = {\"fruits\": [\"banana\", \"apple\", \"guava\", \"jackfruit\"], \"colors\": (\"red\", \"blue\", \"green\"),\n",
    "\"int\": 165, \"float\": 99.56, \"string\":\"some sample text\"}\n",
    "list(dictObj.keys())\n",
    "list(dictObj.values())\n",
    "list(dictObj.items())\n",
    "dictObj[\"iter\"] = \"INSTITUTE OF TECHNICAL EDUCATION & RESEARCH\"\n",
    "list(dictObj.keys())\n",
    "list(dictObj.values())\n",
    "list(dictObj.items())\n",
    "dictObj\n",
    "dictObj.update({'b':\"foo\",'c':12})\n",
    "dictObj\n"
   ]
  },
  {
   "cell_type": "code",
   "execution_count": 1,
   "id": "fb472126",
   "metadata": {},
   "outputs": [
    {
     "data": {
      "text/plain": [
       "{0: 'A',\n",
       " 1: 'B',\n",
       " 2: 'C',\n",
       " 3: 'D',\n",
       " 4: 'E',\n",
       " 5: 'F',\n",
       " 6: 'G',\n",
       " 7: 'G',\n",
       " 8: 'I',\n",
       " 9: 'J'}"
      ]
     },
     "execution_count": 1,
     "metadata": {},
     "output_type": "execute_result"
    }
   ],
   "source": [
    "# d\n",
    "myDict = {}\n",
    "keyList = range(10)\n",
    "valueList = ['A', 'B', 'C', 'D', 'E', 'F', 'G', 'G', 'I', 'J']\n",
    "for key, value in zip(keyList, valueList):\n",
    "    myDict[key] = value\n",
    "myDict"
   ]
  },
  {
   "cell_type": "code",
   "execution_count": 2,
   "id": "4cb03965",
   "metadata": {},
   "outputs": [
    {
     "data": {
      "text/plain": [
       "defaultdict(list,\n",
       "            {'d': ['duck', 'dog', 'dance'],\n",
       "             'a': ['apple', 'atom'],\n",
       "             'b': ['bat', 'bar', 'book'],\n",
       "             'c': ['cat', 'cup']})"
      ]
     },
     "execution_count": 2,
     "metadata": {},
     "output_type": "execute_result"
    }
   ],
   "source": [
    "#e\n",
    "from collections import defaultdict\n",
    "words = [\"duck\",\"apple\",\"dog\",\"bat\",\"cat\",\"cup\",\"bar\",\"atom\",\"book\",\"dance\"]\n",
    "myDict = defaultdict(list)\n",
    "for w in words:\n",
    "    myDict[w[0]].append(w)\n",
    "myDict"
   ]
  },
  {
   "cell_type": "markdown",
   "id": "1223d187",
   "metadata": {},
   "source": [
    "9. Develop Python Programs for the following below scenario.\n",
    "(a) Write a Python Program which will prompt user to ask enter his/her name, profession, mobile\n",
    "number, employment organization, email id etc. Once you receive the input values from the user\n",
    "programmatically store these values into Dictionary objects such as mobile number is the key and\n",
    "other details as tuple object. Try to enter details for at least 7 objects.\n",
    "(b) Develop a Python program which will take lower limit +ve integer and higher limit +ve integer\n",
    "values from the user as user input(lower limit should be lesser than the higher limit). Following\n",
    "that calculate factors of those elements within the range and store them as key value pairs(dictionary\n",
    "object) such as the number is the key and factors are as values of a list object and display them.\n",
    "(c) Modify the Question No. (a) to develop a Python program which will consider name as the key\n",
    "and rest values into tuple as the value. Without using any predefined sort() method use your own\n",
    "logic to sort them based on name and finally display them as output."
   ]
  },
  {
   "cell_type": "code",
   "execution_count": 19,
   "id": "cfb59eff",
   "metadata": {},
   "outputs": [
    {
     "name": "stdout",
     "output_type": "stream",
     "text": [
      "Enter your name: abha\n",
      "Enter your profession: student\n",
      "Enter your mobile number: 9031490620\n",
      "Enter your employment organization: iter\n",
      "Enter your email id: abhamahato2004@gmail.com\n",
      "Enter your name: bina\n",
      "Enter your profession: self emplyed\n",
      "Enter your mobile number: 8789906523\n",
      "Enter your employment organization: home\n",
      "Enter your email id: bina.ck11@gmail.com\n",
      "{'9031490620': ('abha', 'student', 'iter', 'abhamahato2004@gmail.com'), '8789906523': ('bina', 'self emplyed', 'home', 'bina.ck11@gmail.com')}\n"
     ]
    }
   ],
   "source": [
    "#9A\n",
    "user_details = {}  # Create an empty dictionary to store user details\n",
    "\n",
    "# Prompt the user to enter details for 7 objects\n",
    "for i in range(2):     #we can replace 2by 7 in order to take 7 input\n",
    "    name = input(\"Enter your name: \")\n",
    "    profession = input(\"Enter your profession: \")\n",
    "    mobile_number = input(\"Enter your mobile number: \")\n",
    "    organization = input(\"Enter your employment organization: \")\n",
    "    email = input(\"Enter your email id: \")\n",
    "    \n",
    "    # Store the details in a tuple\n",
    "    user_info = (name, profession, organization, email)\n",
    "    \n",
    "    # Use the mobile number as the key in the dictionary\n",
    "    user_details[mobile_number] = user_info\n",
    "\n",
    "# Display the dictionary with user details\n",
    "print(user_details)"
   ]
  },
  {
   "cell_type": "code",
   "execution_count": 83,
   "id": "fe285309",
   "metadata": {},
   "outputs": [
    {
     "name": "stdout",
     "output_type": "stream",
     "text": [
      "Enter the lower limit: 1\n",
      "Enter the upper limit: 20\n",
      "{1: [1], 2: [1, 2], 3: [1, 3], 4: [1, 2, 4], 5: [1, 5], 6: [1, 2, 3, 6], 7: [1, 7], 8: [1, 2, 4, 8], 9: [1, 3, 9], 10: [1, 2, 5, 10], 11: [1, 11], 12: [1, 2, 3, 4, 6, 12], 13: [1, 13], 14: [1, 2, 7, 14], 15: [1, 3, 5, 15], 16: [1, 2, 4, 8, 16], 17: [1, 17], 18: [1, 2, 3, 6, 9, 18], 19: [1, 19], 20: [1, 2, 4, 5, 10, 20]}\n"
     ]
    }
   ],
   "source": [
    "#9B\n",
    "lower_limit = int(input(\"Enter the lower limit: \"))\n",
    "upper_limit = int(input(\"Enter the upper limit: \"))\n",
    "\n",
    "if lower_limit >= upper_limit:\n",
    "    print(\"Lower limit should be less than the upper limit.\")\n",
    "else:\n",
    "    factors_dict = {}  # Create an empty dictionary to store factors\n",
    "    \n",
    "    for num in range(lower_limit, upper_limit + 1):\n",
    "        factors = [i for i in range(1, num + 1) if num % i == 0]\n",
    "        factors_dict[num] = factors\n",
    "    \n",
    "    # Display the dictionary with factors\n",
    "    print(factors_dict)"
   ]
  },
  {
   "cell_type": "code",
   "execution_count": null,
   "id": "d4bb4154",
   "metadata": {},
   "outputs": [],
   "source": [
    "#9C\n",
    "user_details = {}  # Create an empty dictionary to store user details\n",
    "\n",
    "# Prompt the user to enter details for 7 objects\n",
    "for i in range(7):\n",
    "    name = input(\"Enter your name: \")\n",
    "    profession = input(\"Enter your profession: \")\n",
    "    mobile_number = input(\"Enter your mobile number: \")\n",
    "    organization = input(\"Enter your employment organization: \")\n",
    "    email = input(\"Enter your email id: \")\n",
    "    \n",
    "    # Store the details in a tuple\n",
    "    user_info = (name, profession, organization, email)\n",
    "    \n",
    "    # Use the name as the key in the dictionary\n",
    "    user_details[name] = user_info\n",
    "\n",
    "# Display the dictionary with user details\n",
    "print(user_details)"
   ]
  },
  {
   "cell_type": "markdown",
   "id": "6c52520e",
   "metadata": {},
   "source": [
    "10. What is a Set Object in Python? Write different syntax, how we create a Set object? For the following\n",
    "questions create Set object of each scenario and display them as output.\n",
    "(a) Set of all cricket players currently working in Indian Cricket Team.\n",
    "(b) Set of all 3rd semester courses.\n",
    "(c) Set of all books you are following for this semester.\n",
    "(d) Set of 10 integer objects(both -ve and +ve) which are divisible by 11.\n",
    "(e) Set of words containing more than 3 vowels."
   ]
  },
  {
   "cell_type": "markdown",
   "id": "9215929e",
   "metadata": {},
   "source": [
    "A set in Python is an unordered collection of unique elements. Here's the syntax for creating a set object:"
   ]
  },
  {
   "cell_type": "markdown",
   "id": "3c253e0b",
   "metadata": {},
   "source": [
    "my_set = {element1, element2, element3, ...}"
   ]
  },
  {
   "cell_type": "code",
   "execution_count": 85,
   "id": "ff59155b",
   "metadata": {},
   "outputs": [
    {
     "name": "stdout",
     "output_type": "stream",
     "text": [
      "{'Cheteshwar Pujara', 'Jasprit Bumrah', 'Virat Kohli', 'Rohit Sharma'}\n"
     ]
    }
   ],
   "source": [
    "#(a) Set of all cricket players currently working in the Indian Cricket Team:\n",
    "indian_cricket_team = {\"Virat Kohli\", \"Rohit Sharma\", \"Jasprit Bumrah\", \"Cheteshwar Pujara\" }\n",
    "print(indian_cricket_team)\n"
   ]
  },
  {
   "cell_type": "code",
   "execution_count": 86,
   "id": "2b419716",
   "metadata": {},
   "outputs": [
    {
     "name": "stdout",
     "output_type": "stream",
     "text": [
      "{'Physics 303', 'Mathematics 301', 'Computer Science 302'}\n"
     ]
    }
   ],
   "source": [
    "third_semester_courses = {\"Mathematics 301\", \"Computer Science 302\", \"Physics 303\"}\n",
    "print(third_semester_courses)\n"
   ]
  },
  {
   "cell_type": "code",
   "execution_count": 87,
   "id": "a12d61cd",
   "metadata": {},
   "outputs": [
    {
     "name": "stdout",
     "output_type": "stream",
     "text": [
      "{'Python Programming', 'Data Structures and Algorithms', 'Physics for Engineers'}\n"
     ]
    }
   ],
   "source": [
    "semester_books = {\"Python Programming\", \"Data Structures and Algorithms\", \"Physics for Engineers\"}\n",
    "print(semester_books)"
   ]
  },
  {
   "cell_type": "code",
   "execution_count": 88,
   "id": "9c49c224",
   "metadata": {},
   "outputs": [
    {
     "name": "stdout",
     "output_type": "stream",
     "text": [
      "{0, 33, 66, -22, 11, 44, 77, -11, 22, 55}\n"
     ]
    }
   ],
   "source": [
    "divisible_by_11 = {-22, -11, 0, 11, 22, 33, 44, 55, 66, 77}\n",
    "print(divisible_by_11)\n"
   ]
  },
  {
   "cell_type": "code",
   "execution_count": 89,
   "id": "cba38ba8",
   "metadata": {},
   "outputs": [
    {
     "name": "stdout",
     "output_type": "stream",
     "text": [
      "{'adventure', Ellipsis, 'unbelievable', 'education', 'extraordinary', 'communication'}\n"
     ]
    }
   ],
   "source": [
    "vowel_words = {\"education\", \"extraordinary\", \"unbelievable\", \"adventure\", \"communication\", ...}\n",
    "print(vowel_words)"
   ]
  },
  {
   "cell_type": "markdown",
   "id": "33f77b77",
   "metadata": {},
   "source": [
    " 11.Predict the output of following instructions when typed in Jupyter Notebook Cell and note down everyoutput in your assignment copy."
   ]
  },
  {
   "cell_type": "code",
   "execution_count": 31,
   "id": "cba243bf",
   "metadata": {},
   "outputs": [
    {
     "name": "stdout",
     "output_type": "stream",
     "text": [
      "{1, 2, 3, 4, 5, '5', '2', 7, '1'}\n",
      "{1, 3, '5', 6, '2', 7, 9, 10, '1', '9', '6'}\n",
      "<class 'set'>\n",
      "<class 'set'>\n",
      "None\n",
      "{1, 2, 3, 4, 5, '5', '2', 7, '55', '1'}\n",
      "{1, 3, '5', 6, '2', 7, 9, 10, '1', '9', '6'}\n",
      "True\n",
      "False\n",
      "{1, 2, 3, 4, 5, 6, 7, '55', 9, 10, '6', '5', '2', '1', '9'}\n",
      "{1, 2, 3, 4, 5, '5', '2', 7, '55', '1'}\n",
      "{1, 3, '5', 7, '2', '1'}\n",
      "{1, 2, 3, 4, 5, '5', '2', 7, '55', '1'}\n",
      "{1, 3, '5', 6, '2', 7, 9, 10, '1', '9', '6'}\n",
      "None\n",
      "{1, 3, '5', 7, '2', '1'}\n",
      "{1, 3, '5', 6, '2', 7, 9, 10, '1', '9', '6'}\n",
      "None\n",
      "{1, 3, '5', 6, 7, '2', 9, 10, '1', '9', '6'}\n",
      "None\n",
      "{1, 3, '5', 6, 7, '2', 9, 10, '1', '9', '6', 54}\n",
      "None\n",
      "{1, 3, '5', 6, 7, '2', 9, 10, '1', '9', 'Sample Text', '6', 54}\n",
      "{1, 3, '5', 6, '2', 7, 9, 10, '1', '9', '6'}\n",
      "{'Sample Text', 54}\n",
      "{1, 3, '5', 6, 7, '2', 9, 10, '1', '9', 'Sample Text', '6', 54}\n",
      "{1, 3, '5', 6, '2', 7, 9, 10, '1', '9', '6'}\n",
      "None\n",
      "{'Sample Text', 54}\n",
      "{1, 3, '5', 6, '2', 7, 9, 10, '1', '9', '6'}\n",
      "{1, 3, '5', 6, '2', 7, 9, 10, '1', '9', 'Sample Text', '6', 54}\n",
      "{'Sample Text', 54}\n",
      "None\n",
      "{1, 3, 6, 7, 9, 10, '6', '5', '2', '1', '9', 'Sample Text', 54}\n",
      "False\n",
      "True\n",
      "{1, 3, 6, 7, 9, 10, '6', '5', '2', '1', '9', 'Sample Text', 54}\n",
      "{1, 3, '5', 6, '2', 7, 9, 10, '1', '9', '6'}\n",
      "{1, 2, 3, 4, 5, 6, 8, 9}\n",
      "None\n",
      "None\n",
      "None\n",
      "{'', 100.65, 76.89, 'ITER'}\n",
      "{'', 1, 2, 3, 100.65, 4, 5, 6, 8, 9, 76.89, 'ITER'}\n",
      "set()\n",
      "{'', 1, 2, 3, 4, 5, 6, 100.65, 8, 9, 76.89, 'ITER'}\n",
      "{'', 100.65, 76.89, 'ITER'}\n",
      "{1, 2, 3, 4, 5, 6, 8, 9}\n",
      "{'', 100.65, 76.89, 'ITER'}\n",
      "{1, 2, 3, 4, 5, 6, 8, 9}\n"
     ]
    }
   ],
   "source": [
    "#a\n",
    "A = {5, 3, 1, 4, 4, 2, 3, 4, 5, \"5\", 2, \"2\", 7, \"1\"}\n",
    "print(A)\n",
    "B = {\"6\", 3, 1, 3, \"5\", \"2\", 7, \"1\", 6, \"9\", 10, 9, \"6\"}\n",
    "print(B)\n",
    "print(type(A))\n",
    "print(type(B))\n",
    "print(A.add(\"55\"))\n",
    "print(A)\n",
    "D = B\n",
    "print(D)\n",
    "print(D == B)\n",
    "print(D == A)\n",
    "#b\n",
    "C = A\n",
    "print(C.union(D))\n",
    "print(C)\n",
    "print(C.intersection(D))\n",
    "print(C)\n",
    "print(D)\n",
    "print(C.intersection_update(D))\n",
    "print(C)\n",
    "print(D)\n",
    "print(C.update(D))\n",
    "print(C)\n",
    "#c\n",
    "print(C.add(54))\n",
    "print(C)\n",
    "print(C.add(\"Sample Text\"))\n",
    "print(C)\n",
    "print(D)\n",
    "print(C.difference(D))\n",
    "print(C)\n",
    "print(D)\n",
    "print(C.difference_update(D))\n",
    "print(C)\n",
    "print(D)\n",
    "#D\n",
    "print(C.symmetric_difference(D))\n",
    "print(C)\n",
    "print(C.symmetric_difference_update(D))\n",
    "print(C)\n",
    "print(A.issubset(B))\n",
    "print(A.issuperset(B))\n",
    "print(A)\n",
    "print(B)\n",
    "#E\n",
    "X = {1, 2, 3, 4, 2, 3, 5, 6, 1, 2, 9, 8}\n",
    "print(X)\n",
    "Y={''}\n",
    "print(Y.add(100.65))\n",
    "print(Y.add(\"ITER\"))\n",
    "print(Y.add(76.89))\n",
    "print(Y)\n",
    "print(Y| X)\n",
    "print(Y & X)\n",
    "#print(Y-X) not found such bit wise operator\n",
    "print(Y^X)\n",
    "print(Y)\n",
    "print(X)\n",
    "#Y | = X not there is no such conditional bitwise  operator\n",
    "#Y & = X not there is no such conditional bitwise  operator\n",
    "print(Y)\n",
    "print(X)\n",
    "\n",
    "\n"
   ]
  },
  {
   "cell_type": "markdown",
   "id": "2260c07b",
   "metadata": {},
   "source": [
    "12. Develop Python Programs for the following below scenario.\n",
    "(a) Write a Python Program which will prompt user to enter 10 different sample inputs like integer/float/string/boolean/list/tuple/set/dictionary objects etc. and store them into a Set object. Find\n",
    "out all unique characters present in that set object.\n",
    "(b) Develop a Python program which will prompt user to enter 15 positive numbers randomly(repetition\n",
    "allowed) and divide all those unique numbers into two different list objects such that one list contains prime numbers and another list contains composite numbers. Finally, display the output.\n",
    "(c) Develop a Python script which will prompt the user to enter 10 student details such as roll number, name, Physics Mark, Chemistry Mark, Mathematics mark as tuple objects and display them.\n",
    "Finally update those student details with adding fields such as total mark, average mark, status(pass\n",
    "if average mark is > 60) by adding student details as list of tuples and display the outp"
   ]
  },
  {
   "cell_type": "code",
   "execution_count": 91,
   "id": "1796fe56",
   "metadata": {},
   "outputs": [
    {
     "name": "stdout",
     "output_type": "stream",
     "text": [
      "Enter a value: 1\n",
      "Enter a value: A\n",
      "Enter a value: a\n",
      "Enter a value: @\n",
      "Enter a value: #\n",
      "Enter a value: %\n",
      "Enter a value: 1\n",
      "Enter a value: 2\n",
      "Enter a value: 3\n",
      "Enter a value: 4\n",
      "Unique characters in the input: {'#', '4', '3', '%', 'a', '2', 'A', '@', '1'}\n"
     ]
    }
   ],
   "source": [
    "#12A\n",
    "# Initialize an empty set\n",
    "unique_set = set()\n",
    "\n",
    "# Prompt the user for 10 different inputs\n",
    "for _ in range(10):\n",
    "    user_input = input(\"Enter a value: \")\n",
    "    unique_set.add(user_input)\n",
    "\n",
    "# Find unique characters\n",
    "unique_characters = set()\n",
    "for item in unique_set:\n",
    "    unique_characters.update(set(item))\n",
    "\n",
    "print(\"Unique characters in the input:\", unique_characters)\n"
   ]
  },
  {
   "cell_type": "code",
   "execution_count": 95,
   "id": "a2c67d62",
   "metadata": {},
   "outputs": [
    {
     "name": "stdout",
     "output_type": "stream",
     "text": [
      "Enter a positive number: 2\n",
      "Enter a positive number: 3\n",
      "Enter a positive number: 4\n",
      "Enter a positive number: 5\n",
      "Enter a positive number: 6\n",
      "Enter a positive number: 7\n",
      "Enter a positive number: 8\n",
      "Enter a positive number: 9\n",
      "Enter a positive number: 20\n",
      "Enter a positive number: 30\n",
      "Enter a positive number: 10\n",
      "Enter a positive number: 40\n",
      "Enter a positive number: 50\n",
      "Enter a positive number: 60\n",
      "Enter a positive number: 70\n",
      "Prime numbers: [2, 3, 5, 7]\n",
      "Composite numbers: [4, 6, 8, 9, 20, 30, 10, 40, 50, 60, 70]\n"
     ]
    }
   ],
   "source": [
    "#12B\n",
    "# Initialize lists for prime and composite numbers\n",
    "prime_numbers = []\n",
    "composite_numbers = []\n",
    "\n",
    "# Prompt the user for 15 positive numbers (repetitions allowed)\n",
    "for _ in range(15):\n",
    "    user_input = int(input(\"Enter a positive number: \"))\n",
    "    if user_input < 2:\n",
    "        print(\"Number must be greater than 1. Skipping...\")\n",
    "        continue\n",
    "\n",
    "    is_prime = True\n",
    "    for i in range(2, int(user_input**0.5) + 1):\n",
    "        if user_input % i == 0:\n",
    "            is_prime = False\n",
    "            break\n",
    "\n",
    "    if is_prime:\n",
    "        prime_numbers.append(user_input)\n",
    "    else:\n",
    "        composite_numbers.append(user_input)\n",
    "\n",
    "print(\"Prime numbers:\", prime_numbers)\n",
    "print(\"Composite numbers:\", composite_numbers)\n"
   ]
  },
  {
   "cell_type": "code",
   "execution_count": 1,
   "id": "80c98977",
   "metadata": {},
   "outputs": [
    {
     "name": "stdout",
     "output_type": "stream",
     "text": [
      "Enter Roll Number: 21\n",
      "Enter Name: abha\n",
      "Enter Physics Mark: 100\n",
      "Enter Chemistry Mark: 94\n",
      "Enter Mathematics Mark: 95\n",
      "Student Details: (21, 'abha', 100.0, 94.0, 95.0, 289.0, 96.33333333333333, 'Pass')\n"
     ]
    }
   ],
   "source": [
    "#12C\n",
    "# Initialize a list to store student details as tuples\n",
    "students = []\n",
    "\n",
    "# Prompt the user for 10 student details\n",
    "for x  in range(1)://we can replace 1 by 10 in in order to collect data for 10 student\n",
    "    roll_number = int(input(\"Enter Roll Number: \"))\n",
    "    name = input(\"Enter Name: \")\n",
    "    physics_mark = float(input(\"Enter Physics Mark: \"))\n",
    "    chemistry_mark = float(input(\"Enter Chemistry Mark: \"))\n",
    "    mathematics_mark = float(input(\"Enter Mathematics Mark: \"))\n",
    "\n",
    "    total_mark = physics_mark + chemistry_mark + mathematics_mark\n",
    "    average_mark = total_mark / 3\n",
    "    status = \"Pass\" if average_mark > 60 else \"Fail\"\n",
    "\n",
    "    student_details = (roll_number, name, physics_mark, chemistry_mark, mathematics_mark, total_mark, average_mark, status)\n",
    "    students.append(student_details)\n",
    "\n",
    "# Display student details\n",
    "for student in students:\n",
    "    print(\"Student Details:\", student)\n"
   ]
  },
  {
   "cell_type": "code",
   "execution_count": null,
   "id": "a3feb24b",
   "metadata": {},
   "outputs": [],
   "source": []
  }
 ],
 "metadata": {
  "kernelspec": {
   "display_name": "Python 3 (ipykernel)",
   "language": "python",
   "name": "python3"
  },
  "language_info": {
   "codemirror_mode": {
    "name": "ipython",
    "version": 3
   },
   "file_extension": ".py",
   "mimetype": "text/x-python",
   "name": "python",
   "nbconvert_exporter": "python",
   "pygments_lexer": "ipython3",
   "version": "3.11.4"
  }
 },
 "nbformat": 4,
 "nbformat_minor": 5
}
